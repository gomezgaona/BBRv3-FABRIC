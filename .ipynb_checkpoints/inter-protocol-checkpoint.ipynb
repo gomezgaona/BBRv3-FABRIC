{
 "cells": [
  {
   "cell_type": "code",
   "execution_count": 5,
   "id": "cbf09f3d-9462-4c94-babc-478da952d924",
   "metadata": {},
   "outputs": [],
   "source": [
    "import json\n",
    "import traceback\n",
    "from fabrictestbed_extensions.fablib.fablib import fablib"
   ]
  },
  {
   "cell_type": "code",
   "execution_count": 7,
   "id": "0bad7c8a-9025-406c-9b9a-ab55981504e1",
   "metadata": {},
   "outputs": [],
   "source": [
    "slice_name = 'bbr3_test'\n",
    "slice = fablib.new_slice(name=slice_name)"
   ]
  },
  {
   "cell_type": "code",
   "execution_count": 6,
   "id": "26dc6aa9-02c0-4b5f-9c11-eba076f44320",
   "metadata": {},
   "outputs": [
    {
     "ename": "Exception",
     "evalue": "Node not found: h1",
     "output_type": "error",
     "traceback": [
      "\u001b[0;31m---------------------------------------------------------------------------\u001b[0m",
      "\u001b[0;31mKeyError\u001b[0m                                  Traceback (most recent call last)",
      "File \u001b[0;32m/opt/conda/lib/python3.11/site-packages/fabrictestbed_extensions/fablib/slice.py:1435\u001b[0m, in \u001b[0;36mSlice.get_node\u001b[0;34m(self, name)\u001b[0m\n\u001b[1;32m   1434\u001b[0m \u001b[38;5;28;01mtry\u001b[39;00m:\n\u001b[0;32m-> 1435\u001b[0m     \u001b[38;5;28;01mreturn\u001b[39;00m Node\u001b[38;5;241m.\u001b[39mget_node(\u001b[38;5;28mself\u001b[39m, \u001b[38;5;28;43mself\u001b[39;49m\u001b[38;5;241;43m.\u001b[39;49m\u001b[43mget_fim_topology\u001b[49m\u001b[43m(\u001b[49m\u001b[43m)\u001b[49m\u001b[38;5;241;43m.\u001b[39;49m\u001b[43mnodes\u001b[49m\u001b[43m[\u001b[49m\u001b[43mname\u001b[49m\u001b[43m]\u001b[49m)\n\u001b[1;32m   1436\u001b[0m \u001b[38;5;28;01mexcept\u001b[39;00m \u001b[38;5;167;01mException\u001b[39;00m \u001b[38;5;28;01mas\u001b[39;00m e:\n",
      "File \u001b[0;32m/opt/conda/lib/python3.11/site-packages/fim/view_only_dict.py:19\u001b[0m, in \u001b[0;36mViewOnlyDict.__getitem__\u001b[0;34m(self, k)\u001b[0m\n\u001b[1;32m     18\u001b[0m \u001b[38;5;28;01mdef\u001b[39;00m \u001b[38;5;21m__getitem__\u001b[39m(\u001b[38;5;28mself\u001b[39m, k):\n\u001b[0;32m---> 19\u001b[0m     \u001b[38;5;28;01mreturn\u001b[39;00m \u001b[38;5;28;43mself\u001b[39;49m\u001b[38;5;241;43m.\u001b[39;49m\u001b[43m__dict\u001b[49m\u001b[38;5;241;43m.\u001b[39;49m\u001b[38;5;21;43m__getitem__\u001b[39;49m\u001b[43m(\u001b[49m\u001b[43mk\u001b[49m\u001b[43m)\u001b[49m\n",
      "\u001b[0;31mKeyError\u001b[0m: 'h1'",
      "\nDuring handling of the above exception, another exception occurred:\n",
      "\u001b[0;31mException\u001b[0m                                 Traceback (most recent call last)",
      "Cell \u001b[0;32mIn[6], line 3\u001b[0m\n\u001b[1;32m      1\u001b[0m slice_name \u001b[38;5;241m=\u001b[39m \u001b[38;5;124m'\u001b[39m\u001b[38;5;124mbbr3_test\u001b[39m\u001b[38;5;124m'\u001b[39m\n\u001b[1;32m      2\u001b[0m \u001b[38;5;28mslice\u001b[39m \u001b[38;5;241m=\u001b[39m fablib\u001b[38;5;241m.\u001b[39mnew_slice(name\u001b[38;5;241m=\u001b[39mslice_name)\n\u001b[0;32m----> 3\u001b[0m h1 \u001b[38;5;241m=\u001b[39m \u001b[38;5;28;43mslice\u001b[39;49m\u001b[38;5;241;43m.\u001b[39;49m\u001b[43mget_node\u001b[49m\u001b[43m(\u001b[49m\u001b[43mname\u001b[49m\u001b[38;5;241;43m=\u001b[39;49m\u001b[38;5;124;43m\"\u001b[39;49m\u001b[38;5;124;43mh1\u001b[39;49m\u001b[38;5;124;43m\"\u001b[39;49m\u001b[43m)\u001b[49m    \n\u001b[1;32m      4\u001b[0m h2 \u001b[38;5;241m=\u001b[39m \u001b[38;5;28mslice\u001b[39m\u001b[38;5;241m.\u001b[39mget_node(name\u001b[38;5;241m=\u001b[39m\u001b[38;5;124m\"\u001b[39m\u001b[38;5;124mh2\u001b[39m\u001b[38;5;124m\"\u001b[39m)    \n\u001b[1;32m      5\u001b[0m s1 \u001b[38;5;241m=\u001b[39m \u001b[38;5;28mslice\u001b[39m\u001b[38;5;241m.\u001b[39mget_node(name\u001b[38;5;241m=\u001b[39m\u001b[38;5;124m\"\u001b[39m\u001b[38;5;124ms1\u001b[39m\u001b[38;5;124m\"\u001b[39m)    \n",
      "File \u001b[0;32m/opt/conda/lib/python3.11/site-packages/fabrictestbed_extensions/fablib/slice.py:1438\u001b[0m, in \u001b[0;36mSlice.get_node\u001b[0;34m(self, name)\u001b[0m\n\u001b[1;32m   1436\u001b[0m \u001b[38;5;28;01mexcept\u001b[39;00m \u001b[38;5;167;01mException\u001b[39;00m \u001b[38;5;28;01mas\u001b[39;00m e:\n\u001b[1;32m   1437\u001b[0m     logging\u001b[38;5;241m.\u001b[39minfo(e, exc_info\u001b[38;5;241m=\u001b[39m\u001b[38;5;28;01mTrue\u001b[39;00m)\n\u001b[0;32m-> 1438\u001b[0m     \u001b[38;5;28;01mraise\u001b[39;00m \u001b[38;5;167;01mException\u001b[39;00m(\u001b[38;5;124mf\u001b[39m\u001b[38;5;124m\"\u001b[39m\u001b[38;5;124mNode not found: \u001b[39m\u001b[38;5;132;01m{\u001b[39;00mname\u001b[38;5;132;01m}\u001b[39;00m\u001b[38;5;124m\"\u001b[39m)\n",
      "\u001b[0;31mException\u001b[0m: Node not found: h1"
     ]
    }
   ],
   "source": [
    "\n",
    "h1 = slice.get_node(name=\"h1\")    \n",
    "h2 = slice.get_node(name=\"h2\")    \n",
    "s1 = slice.get_node(name=\"s1\")    \n",
    "s2 = slice.get_node(name=\"s2\")    "
   ]
  },
  {
   "cell_type": "code",
   "execution_count": null,
   "id": "96165cf8-66a6-40eb-b1de-89186a609247",
   "metadata": {},
   "outputs": [],
   "source": [
    "h1.upload_file('scripts/topo.py')"
   ]
  }
 ],
 "metadata": {
  "kernelspec": {
   "display_name": "Python 3 (ipykernel)",
   "language": "python",
   "name": "python3"
  },
  "language_info": {
   "codemirror_mode": {
    "name": "ipython",
    "version": 3
   },
   "file_extension": ".py",
   "mimetype": "text/x-python",
   "name": "python",
   "nbconvert_exporter": "python",
   "pygments_lexer": "ipython3",
   "version": "3.11.8"
  }
 },
 "nbformat": 4,
 "nbformat_minor": 5
}
